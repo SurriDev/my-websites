{
  "cells": [
    {
      "cell_type": "markdown",
      "metadata": {
        "id": "view-in-github",
        "colab_type": "text"
      },
      "source": [
        "<a href=\"https://colab.research.google.com/github/SurriDev/my-websites/blob/main/blender_render.ipynb\" target=\"_parent\"><img src=\"https://colab.research.google.com/assets/colab-badge.svg\" alt=\"Open In Colab\"/></a>"
      ]
    },
    {
      "cell_type": "markdown",
      "metadata": {
        "id": "6EYxUEsyGlkw"
      },
      "source": [
        "# Setup\n",
        "**Make sure to read the instructions carefully!**\n",
        "\n",
        "If you have other resources used in the Blender project and chose to *make all paths relative*, pack all of them into a zip archive. Alternatively, you can *pack all external file*.\n",
        "\n",
        "* `blender_version` : Version of blender used to render the scene.\n",
        "* `blend_file_path` : Path to the blend file after unpacking the zip archive. If blend file is used, this is automatically ignored.\n",
        "___\n",
        "* `upload_type` : Select the type of upload method. `gdrive_relative` pulls everything from the folder specified.\n",
        "* `drive_path` : Path to your blend/zip file relative to the root of your Google Drive if `google_drive` is selected. Must  state the file and its extension (.zip/.blend) **unless** `gdrive_relative` is selected.\n",
        "* `url_blend` : Specify the URL to the blend/zip file if `url` is selected.\n",
        "___\n",
        "* `animation` : Specify whether animation or still image is rendered. If **still image** is used, put the frame number in `start_frame`.\n",
        "* `start_frame, end_frame` : Specify the start and end frame for animation. You may put same value such as zero for both input to set the default frame in the blend file.\n",
        "___\n",
        "* `download_type` : Select the type of download method. `gdrive_direct` enables the frames to be outputted directly to Google Drive (zipping will be disabled).\n",
        "* `output_name` : Name of the output frames, **do NOT include .blend!** (## for frame number)\n",
        "* `zip_files` : Archive multiple animation frames automatically into a zip file.\n",
        "* `drive_output_path` : Path to your frames/zip file in Google Drive.\n",
        "___\n",
        "* `gpu_enabled, cpu_enabled` : Toggle GPU and CPU for rendering. CPU might give a slight boost in rendering time but may varies depend on the project.\n",
        "* `optix_enable` : Enable OptiX which may boost performance, may be incompatible depending on the version of blender, project and GPU allocated\n",
        "\n",
        "After you are done, go to Runtime > Run All (Ctrl + F9) and upload your files or have Google Drive authorised below. See the [GitHub repo](https://github.com/syn73/blender-colab) for more information."
      ]
    },
    {
      "cell_type": "code",
      "execution_count": 1,
      "metadata": {
        "id": "8dFNjYGTgNjR"
      },
      "outputs": [],
      "source": [
        "blender_version = '4.3.2' #@param ['2.79b', '2.83.20', '2.93.18', '3.3.21', '3.6.20', '4.2.6', '4.3.2'] {allow-input: false}\n",
        "blend_file_path = 'https://download.blender.org/release/Blender4.3/blender-4.3.0-linux-x64.tar.xz' #@param {type: 'string'}\n",
        "#@markdown ---\n",
        "upload_type = 'google_drive' #@param ['direct', 'google_drive', 'url', 'gdrive_relative'] {allow-input: false}\n",
        "drive_path = 'Colab Notebooks/DONUT.blend' #@param {type: 'string'}\n",
        "url_blend = 'Colab Notebooks/DONUT.blend' #@param {type: 'string'}\n",
        "#@markdown ---\n",
        "animation = True #@param {type: 'boolean'}\n",
        "start_frame =  24#@param {type: 'integer'}\n",
        "end_frame =  160#@param {type: 'integer'}\n",
        "#@markdown ---\n",
        "download_type = 'google_drive' #@param ['direct', 'google_drive', 'gdrive_direct'] {allow-input: false}\n",
        "output_name = 'donut' #@param {type: 'string'}\n",
        "zip_files = True #@param {type: 'boolean'}\n",
        "drive_output_path = 'Colab Notebooks/' #@param {type: 'string'}\n",
        "#@markdown ---\n",
        "gpu_enabled = True #@param {type:\"boolean\"}\n",
        "optix_enabled = False #@param {type:\"boolean\"}\n",
        "cpu_enabled = False #@param {type:\"boolean\"}"
      ]
    },
    {
      "cell_type": "code",
      "execution_count": 2,
      "metadata": {
        "id": "XQ0cynSzSYDd",
        "colab": {
          "base_uri": "https://localhost:8080/"
        },
        "outputId": "fc09318d-c418-42a6-fe2e-f6644ec6b976"
      },
      "outputs": [
        {
          "output_type": "stream",
          "name": "stdout",
          "text": [
            "/content\n",
            "Current GPU: Tesla T4\n"
          ]
        }
      ],
      "source": [
        "%cd /content\n",
        "\n",
        "gpu = !nvidia-smi --query-gpu=gpu_name --format=csv,noheader\n",
        "print(\"Current GPU: \" + gpu[0])\n",
        "\n",
        "if gpu[0] == \"Tesla K80\" and optix_enabled:\n",
        "  print(\"OptiX disabled because of unsupported GPU\")\n",
        "  optix_enabled = False"
      ]
    },
    {
      "cell_type": "code",
      "execution_count": 3,
      "metadata": {
        "id": "pQboAtzI0Zc8",
        "colab": {
          "base_uri": "https://localhost:8080/"
        },
        "outputId": "7471c86a-e22d-4a49-ea85-683749044734"
      },
      "outputs": [
        {
          "output_type": "stream",
          "name": "stdout",
          "text": [
            "Reading package lists... Done\n",
            "Building dependency tree... Done\n",
            "Reading state information... Done\n",
            "The following packages will be REMOVED:\n",
            "  google-perftools libgoogle-perftools4 libtcmalloc-minimal4\n",
            "0 upgraded, 0 newly installed, 3 to remove and 21 not upgraded.\n",
            "After this operation, 1,817 kB disk space will be freed.\n",
            "(Reading database ... 124926 files and directories currently installed.)\n",
            "Removing google-perftools (2.9.1-0ubuntu3) ...\n",
            "Removing libgoogle-perftools4:amd64 (2.9.1-0ubuntu3) ...\n",
            "Removing libtcmalloc-minimal4:amd64 (2.9.1-0ubuntu3) ...\n",
            "Processing triggers for man-db (2.10.2-1) ...\n",
            "Processing triggers for libc-bin (2.35-0ubuntu3.8) ...\n",
            "/sbin/ldconfig.real: /usr/local/lib/libtcm_debug.so.1 is not a symbolic link\n",
            "\n",
            "/sbin/ldconfig.real: /usr/local/lib/libtbbbind_2_0.so.3 is not a symbolic link\n",
            "\n",
            "/sbin/ldconfig.real: /usr/local/lib/libtbb.so.12 is not a symbolic link\n",
            "\n",
            "/sbin/ldconfig.real: /usr/local/lib/libtbbmalloc_proxy.so.2 is not a symbolic link\n",
            "\n",
            "/sbin/ldconfig.real: /usr/local/lib/libur_adapter_opencl.so.0 is not a symbolic link\n",
            "\n",
            "/sbin/ldconfig.real: /usr/local/lib/libtbbmalloc.so.2 is not a symbolic link\n",
            "\n",
            "/sbin/ldconfig.real: /usr/local/lib/libumf.so.0 is not a symbolic link\n",
            "\n",
            "/sbin/ldconfig.real: /usr/local/lib/libtbbbind_2_5.so.3 is not a symbolic link\n",
            "\n",
            "/sbin/ldconfig.real: /usr/local/lib/libhwloc.so.15 is not a symbolic link\n",
            "\n",
            "/sbin/ldconfig.real: /usr/local/lib/libtbbbind.so.3 is not a symbolic link\n",
            "\n",
            "/sbin/ldconfig.real: /usr/local/lib/libur_loader.so.0 is not a symbolic link\n",
            "\n",
            "/sbin/ldconfig.real: /usr/local/lib/libur_adapter_level_zero.so.0 is not a symbolic link\n",
            "\n",
            "/sbin/ldconfig.real: /usr/local/lib/libtcm.so.1 is not a symbolic link\n",
            "\n",
            "Reading package lists... Done\n",
            "Building dependency tree... Done\n",
            "Reading state information... Done\n",
            "The following NEW packages will be installed:\n",
            "  libtcmalloc-minimal4\n",
            "0 upgraded, 1 newly installed, 0 to remove and 21 not upgraded.\n",
            "Need to get 98.2 kB of archives.\n",
            "After this operation, 382 kB of additional disk space will be used.\n",
            "Get:1 http://archive.ubuntu.com/ubuntu jammy/main amd64 libtcmalloc-minimal4 amd64 2.9.1-0ubuntu3 [98.2 kB]\n",
            "Fetched 98.2 kB in 1s (135 kB/s)\n",
            "Selecting previously unselected package libtcmalloc-minimal4:amd64.\n",
            "(Reading database ... 124901 files and directories currently installed.)\n",
            "Preparing to unpack .../libtcmalloc-minimal4_2.9.1-0ubuntu3_amd64.deb ...\n",
            "Unpacking libtcmalloc-minimal4:amd64 (2.9.1-0ubuntu3) ...\n",
            "Setting up libtcmalloc-minimal4:amd64 (2.9.1-0ubuntu3) ...\n",
            "Processing triggers for libc-bin (2.35-0ubuntu3.8) ...\n",
            "/sbin/ldconfig.real: /usr/local/lib/libtcm_debug.so.1 is not a symbolic link\n",
            "\n",
            "/sbin/ldconfig.real: /usr/local/lib/libtbbbind_2_0.so.3 is not a symbolic link\n",
            "\n",
            "/sbin/ldconfig.real: /usr/local/lib/libtbb.so.12 is not a symbolic link\n",
            "\n",
            "/sbin/ldconfig.real: /usr/local/lib/libtbbmalloc_proxy.so.2 is not a symbolic link\n",
            "\n",
            "/sbin/ldconfig.real: /usr/local/lib/libur_adapter_opencl.so.0 is not a symbolic link\n",
            "\n",
            "/sbin/ldconfig.real: /usr/local/lib/libtbbmalloc.so.2 is not a symbolic link\n",
            "\n",
            "/sbin/ldconfig.real: /usr/local/lib/libumf.so.0 is not a symbolic link\n",
            "\n",
            "/sbin/ldconfig.real: /usr/local/lib/libtbbbind_2_5.so.3 is not a symbolic link\n",
            "\n",
            "/sbin/ldconfig.real: /usr/local/lib/libhwloc.so.15 is not a symbolic link\n",
            "\n",
            "/sbin/ldconfig.real: /usr/local/lib/libtbbbind.so.3 is not a symbolic link\n",
            "\n",
            "/sbin/ldconfig.real: /usr/local/lib/libur_loader.so.0 is not a symbolic link\n",
            "\n",
            "/sbin/ldconfig.real: /usr/local/lib/libur_adapter_level_zero.so.0 is not a symbolic link\n",
            "\n",
            "/sbin/ldconfig.real: /usr/local/lib/libtcm.so.1 is not a symbolic link\n",
            "\n"
          ]
        }
      ],
      "source": [
        "import os\n",
        "\n",
        "os.environ[\"LD_PRELOAD\"] = \"\"\n",
        "\n",
        "!apt remove libtcmalloc-minimal4\n",
        "!apt install libtcmalloc-minimal4\n",
        "\n",
        "os.environ[\"LD_PRELOAD\"] = \"/usr/lib/x86_64-linux-gnu/libtcmalloc_minimal.so.4.5.9\""
      ]
    },
    {
      "cell_type": "code",
      "execution_count": 4,
      "metadata": {
        "id": "QRzNmiHN8Xr0",
        "colab": {
          "base_uri": "https://localhost:8080/"
        },
        "outputId": "56c321e6-5302-49da-a71d-b3c0a50b4ce7"
      },
      "outputs": [
        {
          "output_type": "stream",
          "name": "stdout",
          "text": [
            "Mounted at /drive\n"
          ]
        }
      ],
      "source": [
        "import shutil\n",
        "from google.colab import files, drive\n",
        "uploaded_filename = \"\"\n",
        "\n",
        "if upload_type == 'google_drive' or upload_type == 'gdrive_relative' or download_type == 'google_drive' or download_type == 'gdrive_direct':\n",
        "    drive.mount('/drive')\n",
        "\n",
        "if upload_type == 'direct':\n",
        "    uploaded = files.upload()\n",
        "    for fn in uploaded.keys():\n",
        "        uploaded_filename = fn\n",
        "elif upload_type == 'url':\n",
        "    !wget -nc $url_blend\n",
        "    uploaded_filename = os.path.basename(url_blend)\n",
        "elif upload_type == 'google_drive':\n",
        "    shutil.copy('/drive/My Drive/' + drive_path, '.')\n",
        "    uploaded_filename = os.path.basename(drive_path)"
      ]
    },
    {
      "cell_type": "code",
      "execution_count": 5,
      "metadata": {
        "id": "KowqWtLzgSLw",
        "colab": {
          "base_uri": "https://localhost:8080/"
        },
        "outputId": "16a657ae-9894-4838-a63a-30f86124d6ec"
      },
      "outputs": [
        {
          "output_type": "stream",
          "name": "stdout",
          "text": [
            "rm: cannot remove 'render': No such file or directory\n"
          ]
        }
      ],
      "source": [
        "!rm -r render\n",
        "!mkdir render\n",
        "\n",
        "if upload_type == 'gdrive_relative':\n",
        "    if not drive_path.endswith('/'):\n",
        "        drive_path += '/'\n",
        "    !cp -r '/drive/My Drive/{drive_path}.' 'render/'\n",
        "elif uploaded_filename.lower().endswith('.zip'):\n",
        "    !unzip -o $uploaded_filename -d 'render/'\n",
        "elif uploaded_filename.lower().endswith('.blend'):\n",
        "    shutil.copy(uploaded_filename, 'render/')\n",
        "    blend_file_path = uploaded_filename\n",
        "else:\n",
        "    raise SystemExit(\"Invalid file extension, only .blend and .zip can be uploaded.\")"
      ]
    },
    {
      "cell_type": "code",
      "execution_count": 6,
      "metadata": {
        "id": "GPJ9fmoB6PWM",
        "colab": {
          "base_uri": "https://localhost:8080/"
        },
        "outputId": "2d800bab-c374-4136-fe9f-89b1476c034f"
      },
      "outputs": [
        {
          "output_type": "stream",
          "name": "stdout",
          "text": [
            "--2025-02-24 12:21:49--  https://ftp.nluug.nl/pub/graphics/blender/release/Blender4.3/blender-4.3.2-linux-x64.tar.xz\n",
            "Resolving ftp.nluug.nl (ftp.nluug.nl)... 145.220.21.40, 2001:67c:6ec:221:145:220:21:40\n",
            "Connecting to ftp.nluug.nl (ftp.nluug.nl)|145.220.21.40|:443... connected.\n",
            "HTTP request sent, awaiting response... 200 OK\n",
            "Length: 368852356 (352M) [application/octet-stream]\n",
            "Saving to: ‘blender-4.3.2-linux-x64.tar.xz’\n",
            "\n",
            "blender-4.3.2-linux 100%[===================>] 351.76M  26.8MB/s    in 15s     \n",
            "\n",
            "2025-02-24 12:22:04 (24.2 MB/s) - ‘blender-4.3.2-linux-x64.tar.xz’ saved [368852356/368852356]\n",
            "\n"
          ]
        }
      ],
      "source": [
        "# To add your own new version, go to https://ftp.nluug.nl/pub/graphics/blender/release\n",
        "# and copy the URL of the desired version linux-x64 tar archive\n",
        "# Then, edit or add the version below and also at the version selection at the top\n",
        "blender_url_dict = {'2.79b'   : \"https://ftp.nluug.nl/pub/graphics/blender/release/Blender2.79/blender-2.79b-linux-glibc219-x86_64.tar.bz2\",\n",
        "                    '2.83.20' : \"https://ftp.nluug.nl/pub/graphics/blender/release/Blender2.83/blender-2.83.20-linux-x64.tar.xz\",\n",
        "                    '2.93.18' : \"https://ftp.nluug.nl/pub/graphics/blender/release/Blender2.93/blender-2.93.18-linux-x64.tar.xz\",\n",
        "                    '3.3.21'  : \"https://ftp.nluug.nl/pub/graphics/blender/release/Blender3.3/blender-3.3.21-linux-x64.tar.xz\",\n",
        "                    '3.6.20'  : \"https://ftp.nluug.nl/pub/graphics/blender/release/Blender3.6/blender-3.6.20-linux-x64.tar.xz\",\n",
        "                    '4.2.6'   : \"https://ftp.nluug.nl/pub/graphics/blender/release/Blender4.2/blender-4.2.6-linux-x64.tar.xz\",\n",
        "                    '4.3.2'   : \"https://ftp.nluug.nl/pub/graphics/blender/release/Blender4.3/blender-4.3.2-linux-x64.tar.xz\"}\n",
        "\n",
        "blender_url = blender_url_dict[blender_version]\n",
        "base_url = os.path.basename(blender_url)\n",
        "\n",
        "!mkdir $blender_version\n",
        "!wget -nc $blender_url\n",
        "!tar -xkf $base_url -C ./$blender_version --strip-components=1"
      ]
    },
    {
      "cell_type": "code",
      "execution_count": 7,
      "metadata": {
        "id": "6elYiQrvkUAe"
      },
      "outputs": [],
      "source": [
        "# Enable GPU rendering (or add custom properties here)\n",
        "data = \"import re\\n\"+\\\n",
        "    \"import bpy\\n\"+\\\n",
        "    \"scene = bpy.context.scene\\n\"+\\\n",
        "    \"scene.cycles.device = 'GPU'\\n\"+\\\n",
        "    \"prefs = bpy.context.preferences\\n\"+\\\n",
        "    \"prefs.addons['cycles'].preferences.get_devices()\\n\"+\\\n",
        "    \"cprefs = prefs.addons['cycles'].preferences\\n\"+\\\n",
        "    \"print(cprefs)\\n\"+\\\n",
        "    \"for compute_device_type in ('CUDA', 'OPENCL', 'NONE'):\\n\"+\\\n",
        "    \"    try:\\n\"+\\\n",
        "    \"        cprefs.compute_device_type = compute_device_type\\n\"+\\\n",
        "    \"        print('Device found:',compute_device_type)\\n\"+\\\n",
        "    \"        break\\n\"+\\\n",
        "    \"    except TypeError:\\n\"+\\\n",
        "    \"        pass\\n\"+\\\n",
        "    \"for device in cprefs.devices:\\n\"+\\\n",
        "    \"    if not re.match('intel', device.name, re.I):\\n\"+\\\n",
        "    \"        print('Activating',device)\\n\"+\\\n",
        "    \"        device.use = \"+str(gpu_enabled)+\"\\n\"+\\\n",
        "    \"    else:\\n\"+\\\n",
        "    \"        device.use = \"+str(cpu_enabled)+\"\\n\"\n",
        "with open('setgpu.py', 'w') as f:\n",
        "    f.write(data)\n",
        "\n",
        "renderer = \"CUDA\"\n",
        "if optix_enabled:\n",
        "    print(\"Note: You're currently using OptiX renderer. If an error occurred, the current GPU (example: Tesla K80) is not supported and you need to switch back to Cycles.\")\n",
        "    renderer = \"OPTIX\""
      ]
    },
    {
      "cell_type": "code",
      "execution_count": 8,
      "metadata": {
        "id": "Fpk2w3yM8XqQ",
        "colab": {
          "base_uri": "https://localhost:8080/"
        },
        "outputId": "b6668ceb-58e3-4d46-d6bf-8871d61f403c"
      },
      "outputs": [
        {
          "output_type": "stream",
          "name": "stdout",
          "text": [
            "/content\n",
            "rm: cannot remove 'output': No such file or directory\n",
            "/content/4.3.2\n",
            "Blender 4.3.2 (hash 32f5fdce0a0a built 2024-12-17 01:31:14)\n",
            "Read blend: \"/content/render/DONUT.blend\"\n",
            "OSError: Python file \"/content/4.3.2/setgpu.py\" could not be opened: No such file or directory\n",
            "Fra:24 Mem:178.23M (Peak 178.23M) | Time:00:00.34 | Mem:0.00M, Peak:0.00M | Scene, ViewLayer | Synchronizing object | UtensilsJar001\n",
            "Fra:24 Mem:178.50M (Peak 178.50M) | Time:00:00.34 | Mem:0.00M, Peak:0.00M | Scene, ViewLayer | Synchronizing object | Curvy\n",
            "Fra:24 Mem:178.62M (Peak 178.62M) | Time:00:00.34 | Mem:0.00M, Peak:0.00M | Scene, ViewLayer | Synchronizing object | Small\n",
            "Fra:24 Mem:178.63M (Peak 178.63M) | Time:00:00.34 | Mem:0.00M, Peak:0.00M | Scene, ViewLayer | Synchronizing object | Long\n",
            "Fra:24 Mem:178.73M (Peak 178.73M) | Time:00:00.34 | Mem:0.00M, Peak:0.00M | Scene, ViewLayer | Synchronizing object | Middle\n",
            "Fra:24 Mem:179.74M (Peak 179.74M) | Time:00:00.35 | Mem:0.00M, Peak:0.00M | Scene, ViewLayer | Synchronizing object | Icing.003\n",
            "Fra:24 Mem:179.87M (Peak 179.87M) | Time:00:00.35 | Mem:0.00M, Peak:0.00M | Scene, ViewLayer | Synchronizing object | UtensilsJar001_utensil01\n",
            "Fra:24 Mem:180.39M (Peak 180.39M) | Time:00:00.36 | Mem:0.00M, Peak:0.00M | Scene, ViewLayer | Synchronizing object | UtensilsJar001_utensil02\n",
            "Fra:24 Mem:180.96M (Peak 180.96M) | Time:00:00.36 | Mem:0.00M, Peak:0.00M | Scene, ViewLayer | Synchronizing object | Icing.005\n",
            "Fra:24 Mem:181.79M (Peak 181.79M) | Time:00:00.36 | Mem:0.00M, Peak:0.00M | Scene, ViewLayer | Synchronizing object | UtensilsJar001_utensil03\n",
            "Fra:24 Mem:182.37M (Peak 182.37M) | Time:00:00.37 | Mem:0.00M, Peak:0.00M | Scene, ViewLayer | Synchronizing object | Sphere\n",
            "Fra:24 Mem:182.44M (Peak 182.44M) | Time:00:00.37 | Mem:0.00M, Peak:0.00M | Scene, ViewLayer | Synchronizing object | Sphere.003\n",
            "Fra:24 Mem:182.51M (Peak 182.51M) | Time:00:00.37 | Mem:0.00M, Peak:0.00M | Scene, ViewLayer | Synchronizing object | Sphere.002\n",
            "Fra:24 Mem:182.59M (Peak 182.59M) | Time:00:00.37 | Mem:0.00M, Peak:0.00M | Scene, ViewLayer | Synchronizing object | Sphere.001\n",
            "Fra:24 Mem:182.66M (Peak 182.66M) | Time:00:00.37 | Mem:0.00M, Peak:0.00M | Scene, ViewLayer | Synchronizing object | Icing.006\n",
            "Fra:24 Mem:185.05M (Peak 185.05M) | Time:00:00.37 | Mem:0.00M, Peak:0.00M | Scene, ViewLayer | Synchronizing object | Donut.006\n",
            "Fra:24 Mem:185.35M (Peak 185.35M) | Time:00:00.37 | Mem:0.00M, Peak:0.00M | Scene, ViewLayer | Synchronizing object | Icing.005\n",
            "Fra:24 Mem:187.42M (Peak 187.63M) | Time:00:00.37 | Mem:0.00M, Peak:0.00M | Scene, ViewLayer | Synchronizing object | UtensilsJar001_utensil04\n",
            "Fra:24 Mem:191.07M (Peak 191.49M) | Time:00:00.38 | Mem:0.00M, Peak:0.00M | Scene, ViewLayer | Synchronizing object | Donut.005\n",
            "Fra:24 Mem:191.37M (Peak 191.49M) | Time:00:00.38 | Mem:0.00M, Peak:0.00M | Scene, ViewLayer | Synchronizing object | Icing.004\n",
            "Fra:24 Mem:193.76M (Peak 193.76M) | Time:00:00.38 | Mem:0.00M, Peak:0.00M | Scene, ViewLayer | Synchronizing object | Donut.004\n",
            "Fra:24 Mem:194.06M (Peak 194.06M) | Time:00:00.39 | Mem:0.00M, Peak:0.00M | Scene, ViewLayer | Synchronizing object | Icing.003\n",
            "Fra:24 Mem:197.41M (Peak 197.54M) | Time:00:00.40 | Mem:0.00M, Peak:0.00M | Scene, ViewLayer | Synchronizing object | UtensilsJar001_utensil05\n",
            "Fra:24 Mem:198.02M (Peak 198.02M) | Time:00:00.40 | Mem:0.00M, Peak:0.00M | Scene, ViewLayer | Synchronizing object | Donut.003\n",
            "Fra:24 Mem:198.65M (Peak 198.65M) | Time:00:00.40 | Mem:0.00M, Peak:0.00M | Scene, ViewLayer | Synchronizing object | Icing.002\n",
            "Fra:24 Mem:201.04M (Peak 201.04M) | Time:00:00.40 | Mem:0.00M, Peak:0.00M | Scene, ViewLayer | Synchronizing object | Donut.002\n",
            "Fra:24 Mem:201.34M (Peak 201.34M) | Time:00:00.40 | Mem:0.00M, Peak:0.00M | Scene, ViewLayer | Synchronizing object | Icing.001\n",
            "Fra:24 Mem:203.31M (Peak 203.31M) | Time:00:00.40 | Mem:0.00M, Peak:0.00M | Scene, ViewLayer | Synchronizing object | UtensilsJar001_utensil06\n",
            "Fra:24 Mem:205.03M (Peak 205.03M) | Time:00:00.40 | Mem:0.00M, Peak:0.00M | Scene, ViewLayer | Synchronizing object | UtensilsJar001_utensil07\n",
            "Fra:24 Mem:206.59M (Peak 207.01M) | Time:00:00.41 | Mem:0.00M, Peak:0.00M | Scene, ViewLayer | Synchronizing object | Donut.001\n",
            "Fra:24 Mem:206.78M (Peak 207.01M) | Time:00:00.41 | Mem:0.00M, Peak:0.00M | Scene, ViewLayer | Synchronizing object | UtensilsJar001_utensil08\n",
            "Fra:24 Mem:207.26M (Peak 207.26M) | Time:00:00.41 | Mem:0.00M, Peak:0.00M | Scene, ViewLayer | Synchronizing object | Icing\n",
            "Fra:24 Mem:212.75M (Peak 213.17M) | Time:00:00.42 | Mem:0.00M, Peak:0.00M | Scene, ViewLayer | Synchronizing object | Donut\n",
            "Fra:24 Mem:213.05M (Peak 213.17M) | Time:00:00.42 | Mem:0.00M, Peak:0.00M | Scene, ViewLayer | Synchronizing object | Round\n",
            "Fra:24 Mem:213.06M (Peak 213.17M) | Time:00:00.42 | Mem:0.00M, Peak:0.00M | Scene, ViewLayer | Synchronizing object | Plate\n",
            "Fra:24 Mem:213.61M (Peak 213.61M) | Time:00:00.42 | Mem:0.00M, Peak:0.00M | Scene, ViewLayer | Synchronizing object | PlantMonsteraVase001.001\n",
            "Fra:24 Mem:216.28M (Peak 216.28M) | Time:00:00.43 | Mem:0.00M, Peak:0.00M | Scene, ViewLayer | Synchronizing object | Icing.007\n",
            "Fra:24 Mem:218.67M (Peak 218.67M) | Time:00:00.43 | Mem:0.00M, Peak:0.00M | Scene, ViewLayer | Synchronizing object | Donut.007\n",
            "Fra:24 Mem:225.65M (Peak 225.72M) | Time:00:00.43 | Mem:0.00M, Peak:0.00M | Scene, ViewLayer | Synchronizing object | Countertop\n",
            "Fra:24 Mem:225.65M (Peak 225.72M) | Time:00:00.43 | Mem:0.00M, Peak:0.00M | Scene, ViewLayer | Synchronizing object | Backsplash\n",
            "Fra:24 Mem:225.65M (Peak 225.72M) | Time:00:00.43 | Mem:0.00M, Peak:0.00M | Scene, ViewLayer | Synchronizing object | Enclousure\n",
            "Fra:24 Mem:225.65M (Peak 225.72M) | Time:00:00.43 | Mem:0.00M, Peak:0.00M | Scene, ViewLayer | Synchronizing object | PlantMonstera001.001\n",
            "Fra:24 Mem:285.20M (Peak 295.88M) | Time:00:00.79 | Mem:0.00M, Peak:0.00M | Scene, ViewLayer | Initializing\n",
            "Fra:24 Mem:282.66M (Peak 295.88M) | Time:00:00.81 | Mem:0.00M, Peak:0.00M | Scene, ViewLayer | Updating Images | Loading PlantMonstera001_SSS_4K_METALNESS.jpg\n",
            "Fra:24 Mem:282.66M (Peak 295.88M) | Time:00:00.81 | Mem:0.00M, Peak:0.00M | Scene, ViewLayer | Updating Images | Loading UtensilsJar001_COL_3K.jpg\n",
            "Fra:24 Mem:382.67M (Peak 454.67M) | Time:00:00.97 | Mem:36.00M, Peak:36.00M | Scene, ViewLayer | Updating Images | Loading UtensilsJar001_NRM_3K.png\n",
            "Fra:24 Mem:546.68M (Peak 618.70M) | Time:00:01.32 | Mem:72.00M, Peak:72.00M | Scene, ViewLayer | Updating Images | Loading UtensilsJar001_GLOSS_3K.jpg\n",
            "Fra:24 Mem:454.68M (Peak 618.70M) | Time:00:01.40 | Mem:136.00M, Peak:136.00M | Scene, ViewLayer | Updating Images | Loading PlantMonstera001_ROUGHNESS_4K_METALNESS.jpg\n",
            "Fra:24 Mem:518.67M (Peak 618.70M) | Time:00:01.44 | Mem:172.00M, Peak:172.00M | Scene, ViewLayer | Updating Images | Loading UtensilsJar001_REFL_3K.jpg\n",
            "Fra:24 Mem:554.67M (Peak 626.68M) | Time:00:01.56 | Mem:208.00M, Peak:208.00M | Scene, ViewLayer | Updating Images | Loading Donut Base\n",
            "Fra:24 Mem:558.67M (Peak 626.68M) | Time:00:01.58 | Mem:212.00M, Peak:212.00M | Scene, ViewLayer | Updating Images | Loading Poliigon_StoneQuartzite_8060_BaseColor.jpg\n",
            "Fra:24 Mem:702.68M (Peak 734.69M) | Time:00:01.70 | Mem:228.00M, Peak:228.00M | Scene, ViewLayer | Updating Images | Loading Poliigon_StoneQuartzite_8060_Roughness.jpg\n",
            "Fra:24 Mem:590.67M (Peak 734.69M) | Time:00:01.75 | Mem:292.00M, Peak:292.00M | Scene, ViewLayer | Updating Images | Loading PlantMonstera001_NRM_4K_METALNESS.jpg\n",
            "Fra:24 Mem:654.67M (Peak 734.69M) | Time:00:01.77 | Mem:308.00M, Peak:308.00M | Scene, ViewLayer | Updating Images | Loading Poliigon_StoneQuartzite_8060_Normal.png\n",
            "Fra:24 Mem:670.67M (Peak 734.69M) | Time:00:01.88 | Mem:324.00M, Peak:324.00M | Scene, ViewLayer | Updating Images | Loading PlantMonsteraVase001_COL_4K_METALNESS.jpg\n",
            "Fra:24 Mem:734.67M (Peak 990.69M) | Time:00:02.49 | Mem:388.00M, Peak:388.00M | Scene, ViewLayer | Updating Images | Loading PlantMonsteraVase001_METALNESS_4K_METALNESS.jpg\n",
            "Fra:24 Mem:798.67M (Peak 990.69M) | Time:00:02.50 | Mem:452.00M, Peak:452.00M | Scene, ViewLayer | Updating Images | Loading PlantMonstera001_METALNESS_4K_METALNESS.jpg\n",
            "Fra:24 Mem:862.67M (Peak 1118.69M) | Time:00:02.76 | Mem:516.00M, Peak:516.00M | Scene, ViewLayer | Updating Images | Loading PlantMonsteraVase001_NRM_4K_METALNESS.png\n",
            "Fra:24 Mem:926.67M (Peak 1118.69M) | Time:00:02.77 | Mem:580.00M, Peak:580.00M | Scene, ViewLayer | Updating Images | Loading PlantMonstera001_COL_4K_METALNESS.jpg\n",
            "Fra:24 Mem:990.67M (Peak 1118.69M) | Time:00:03.37 | Mem:644.00M, Peak:644.00M | Scene, ViewLayer | Updating Images | Loading PlantMonsteraVase001_ROUGHNESS_4K_METALNESS.jpg\n",
            "Fra:24 Mem:1051.44M (Peak 1182.69M) | Time:00:03.59 | Mem:772.00M, Peak:772.00M | Scene, ViewLayer | Waiting for render to start\n",
            "Fra:24 Mem:1051.44M (Peak 1182.69M) | Time:00:03.59 | Mem:772.00M, Peak:772.00M | Scene, ViewLayer | Loading render kernels (may take a few minutes the first time)\n",
            "Fra:24 Mem:1051.44M (Peak 1182.69M) | Time:00:03.70 | Mem:772.01M, Peak:772.01M | Scene, ViewLayer | Updating Scene\n",
            "Fra:24 Mem:1051.44M (Peak 1182.69M) | Time:00:03.70 | Mem:772.01M, Peak:772.01M | Scene, ViewLayer | Updating Shaders\n",
            "Fra:24 Mem:1051.55M (Peak 1182.69M) | Time:00:03.70 | Mem:772.04M, Peak:772.04M | Scene, ViewLayer | Updating Procedurals\n",
            "Fra:24 Mem:1051.55M (Peak 1182.69M) | Time:00:03.70 | Mem:772.04M, Peak:772.04M | Scene, ViewLayer | Updating Background\n",
            "Fra:24 Mem:1051.55M (Peak 1182.69M) | Time:00:03.70 | Mem:772.04M, Peak:772.04M | Scene, ViewLayer | Updating Camera\n",
            "Fra:24 Mem:1051.55M (Peak 1182.69M) | Time:00:03.70 | Mem:772.04M, Peak:772.04M | Scene, ViewLayer | Updating Meshes Flags\n",
            "Fra:24 Mem:1051.55M (Peak 1182.69M) | Time:00:03.70 | Mem:772.04M, Peak:772.04M | Scene, ViewLayer | Updating Objects\n",
            "Fra:24 Mem:1051.55M (Peak 1182.69M) | Time:00:03.70 | Mem:772.04M, Peak:772.04M | Scene, ViewLayer | Updating Objects | Copying Transformations to device\n",
            "Fra:24 Mem:1051.92M (Peak 1182.69M) | Time:00:03.70 | Mem:772.89M, Peak:772.89M | Scene, ViewLayer | Updating Objects | Applying Static Transformations\n",
            "Fra:24 Mem:1051.92M (Peak 1182.69M) | Time:00:03.70 | Mem:772.89M, Peak:772.89M | Scene, ViewLayer | Updating Particle Systems\n",
            "Fra:24 Mem:1051.92M (Peak 1182.69M) | Time:00:03.70 | Mem:772.89M, Peak:772.89M | Scene, ViewLayer | Updating Particle Systems | Copying Particles to device\n",
            "Fra:24 Mem:1051.92M (Peak 1182.69M) | Time:00:03.70 | Mem:772.89M, Peak:772.89M | Scene, ViewLayer | Updating Meshes\n",
            "Fra:24 Mem:1065.68M (Peak 1182.69M) | Time:00:03.72 | Mem:772.89M, Peak:772.89M | Scene, ViewLayer | Updating Mesh | Computing attributes\n",
            "Fra:24 Mem:1100.46M (Peak 1182.69M) | Time:00:03.74 | Mem:772.90M, Peak:772.90M | Scene, ViewLayer | Updating Mesh | Copying Attributes to device\n",
            "Fra:24 Mem:1100.18M (Peak 1182.69M) | Time:00:03.75 | Mem:807.39M, Peak:807.39M | Scene, ViewLayer | Updating Geometry BVH Torus.013 17/17 | Building BVH\n",
            "Fra:24 Mem:1102.73M (Peak 1182.69M) | Time:00:03.75 | Mem:807.39M, Peak:807.39M | Scene, ViewLayer | Updating Geometry BVH Torus.015 1/17 | Building BVH\n",
            "Fra:24 Mem:1106.56M (Peak 1182.69M) | Time:00:03.81 | Mem:807.39M, Peak:807.39M | Scene, ViewLayer | Updating Geometry BVH Torus.015 1/17 | Packing BVH triangles and strands\n",
            "Fra:24 Mem:1106.77M (Peak 1182.69M) | Time:00:03.81 | Mem:807.39M, Peak:807.39M | Scene, ViewLayer | Updating Geometry BVH Torus.015 1/17 | Packing BVH nodes\n",
            "Fra:24 Mem:1107.63M (Peak 1182.69M) | Time:00:03.81 | Mem:807.39M, Peak:807.39M | Scene, ViewLayer | Updating Geometry BVH Torus.015 1/17 | Packing BVH triangles and strands\n",
            "Fra:24 Mem:1107.84M (Peak 1182.69M) | Time:00:03.82 | Mem:807.39M, Peak:807.39M | Scene, ViewLayer | Updating Geometry BVH Torus.015 1/17 | Packing BVH nodes\n",
            "Fra:24 Mem:1105.29M (Peak 1182.69M) | Time:00:03.82 | Mem:807.39M, Peak:807.39M | Scene, ViewLayer | Updating Geometry BVH Sphere 16/17 | Building BVH\n",
            "Fra:24 Mem:1106.16M (Peak 1182.69M) | Time:00:03.82 | Mem:807.39M, Peak:807.39M | Scene, ViewLayer | Updating Geometry BVH Sphere 16/17 | Packing BVH triangles and strands\n",
            "Fra:24 Mem:1106.17M (Peak 1182.69M) | Time:00:03.82 | Mem:807.39M, Peak:807.39M | Scene, ViewLayer | Updating Geometry BVH Sphere 16/17 | Packing BVH nodes\n",
            "Fra:24 Mem:1106.16M (Peak 1182.69M) | Time:00:03.82 | Mem:807.39M, Peak:807.39M | Scene, ViewLayer | Updating Geometry BVH Torus.011 15/17 | Building BVH\n",
            "Fra:24 Mem:1106.16M (Peak 1182.69M) | Time:00:03.82 | Mem:807.39M, Peak:807.39M | Scene, ViewLayer | Updating Geometry BVH Cylinder.003 2/17 | Building BVH\n",
            "Fra:24 Mem:1106.18M (Peak 1182.69M) | Time:00:03.82 | Mem:807.39M, Peak:807.39M | Scene, ViewLayer | Updating Geometry BVH Cylinder.003 2/17 | Packing BVH triangles and strands\n",
            "Fra:24 Mem:1106.18M (Peak 1182.69M) | Time:00:03.82 | Mem:807.39M, Peak:807.39M | Scene, ViewLayer | Updating Geometry BVH Cylinder.003 2/17 | Packing BVH nodes\n",
            "Fra:24 Mem:1106.17M (Peak 1182.69M) | Time:00:03.82 | Mem:807.39M, Peak:807.39M | Scene, ViewLayer | Updating Geometry BVH Cylinder 3/17 | Building BVH\n",
            "Fra:24 Mem:1106.18M (Peak 1182.69M) | Time:00:03.82 | Mem:807.39M, Peak:807.39M | Scene, ViewLayer | Updating Geometry BVH Cylinder 3/17 | Packing BVH triangles and strands\n",
            "Fra:24 Mem:1106.18M (Peak 1182.69M) | Time:00:03.82 | Mem:807.39M, Peak:807.39M | Scene, ViewLayer | Updating Geometry BVH Cylinder 3/17 | Packing BVH nodes\n",
            "Fra:24 Mem:1106.18M (Peak 1182.69M) | Time:00:03.82 | Mem:807.39M, Peak:807.39M | Scene, ViewLayer | Updating Geometry BVH Cylinder.002 4/17 | Building BVH\n",
            "Fra:24 Mem:1106.19M (Peak 1182.69M) | Time:00:03.82 | Mem:807.39M, Peak:807.39M | Scene, ViewLayer | Updating Geometry BVH Cylinder.002 4/17 | Packing BVH triangles and strands\n",
            "Fra:24 Mem:1106.19M (Peak 1182.69M) | Time:00:03.82 | Mem:807.39M, Peak:807.39M | Scene, ViewLayer | Updating Geometry BVH Cylinder.002 4/17 | Packing BVH nodes\n",
            "Fra:24 Mem:1106.18M (Peak 1182.69M) | Time:00:03.82 | Mem:807.39M, Peak:807.39M | Scene, ViewLayer | Updating Geometry BVH Cylinder.001 5/17 | Building BVH\n",
            "Fra:24 Mem:1106.19M (Peak 1182.69M) | Time:00:03.82 | Mem:807.39M, Peak:807.39M | Scene, ViewLayer | Updating Geometry BVH Cylinder.001 5/17 | Packing BVH triangles and strands\n",
            "Fra:24 Mem:1106.19M (Peak 1182.69M) | Time:00:03.82 | Mem:807.39M, Peak:807.39M | Scene, ViewLayer | Updating Geometry BVH Cylinder.001 5/17 | Packing BVH nodes\n",
            "Fra:24 Mem:1106.19M (Peak 1182.69M) | Time:00:03.82 | Mem:807.39M, Peak:807.39M | Scene, ViewLayer | Updating Geometry BVH Plane.007 6/17 | Building BVH\n",
            "Fra:24 Mem:1114.64M (Peak 1182.69M) | Time:00:03.88 | Mem:807.39M, Peak:807.39M | Scene, ViewLayer | Updating Geometry BVH Plane.007 6/17 | Packing BVH triangles and strands\n",
            "Fra:24 Mem:1114.86M (Peak 1182.69M) | Time:00:03.88 | Mem:807.39M, Peak:807.39M | Scene, ViewLayer | Updating Geometry BVH Plane.007 6/17 | Packing BVH nodes\n",
            "Fra:24 Mem:1113.17M (Peak 1182.69M) | Time:00:03.88 | Mem:807.39M, Peak:807.39M | Scene, ViewLayer | Updating Geometry BVH Torus.009 14/17 | Building BVH\n",
            "Fra:24 Mem:1116.36M (Peak 1182.69M) | Time:00:03.95 | Mem:807.39M, Peak:807.39M | Scene, ViewLayer | Updating Geometry BVH Torus.009 14/17 | Packing BVH triangles and strands\n",
            "Fra:24 Mem:1116.57M (Peak 1182.69M) | Time:00:03.95 | Mem:807.39M, Peak:807.39M | Scene, ViewLayer | Updating Geometry BVH Torus.009 14/17 | Packing BVH nodes\n",
            "Fra:24 Mem:1114.88M (Peak 1182.69M) | Time:00:03.96 | Mem:807.39M, Peak:807.39M | Scene, ViewLayer | Updating Geometry BVH Sphere 13/17 | Building BVH\n",
            "Fra:24 Mem:1114.89M (Peak 1182.69M) | Time:00:03.96 | Mem:807.39M, Peak:807.39M | Scene, ViewLayer | Updating Geometry BVH Sphere 13/17 | Packing BVH triangles and strands\n",
            "Fra:24 Mem:1114.89M (Peak 1182.69M) | Time:00:03.96 | Mem:807.39M, Peak:807.39M | Scene, ViewLayer | Updating Geometry BVH Sphere 13/17 | Packing BVH nodes\n",
            "Fra:24 Mem:1114.88M (Peak 1182.69M) | Time:00:03.96 | Mem:807.39M, Peak:807.39M | Scene, ViewLayer | Updating Geometry BVH Torus.007 12/17 | Building BVH\n",
            "Fra:24 Mem:1118.07M (Peak 1182.69M) | Time:00:04.01 | Mem:807.39M, Peak:807.39M | Scene, ViewLayer | Updating Geometry BVH Torus.007 12/17 | Packing BVH triangles and strands\n",
            "Fra:24 Mem:1118.60M (Peak 1182.69M) | Time:00:04.01 | Mem:807.39M, Peak:807.39M | Scene, ViewLayer | Updating Geometry BVH Torus.007 12/17 | Packing BVH nodes\n",
            "Fra:24 Mem:1114.16M (Peak 1182.69M) | Time:00:04.01 | Mem:807.39M, Peak:807.39M | Scene, ViewLayer | Updating Geometry BVH Circle.002 7/17 | Building BVH\n",
            "Fra:24 Mem:1114.58M (Peak 1182.69M) | Time:00:04.02 | Mem:807.39M, Peak:807.39M | Scene, ViewLayer | Updating Geometry BVH Circle.002 7/17 | Packing BVH triangles and strands\n",
            "Fra:24 Mem:1114.79M (Peak 1182.69M) | Time:00:04.02 | Mem:807.39M, Peak:807.39M | Scene, ViewLayer | Updating Geometry BVH Circle.002 7/17 | Packing BVH nodes\n",
            "Fra:24 Mem:1114.79M (Peak 1182.69M) | Time:00:04.02 | Mem:807.39M, Peak:807.39M | Scene, ViewLayer | Updating Geometry BVH Circle.002 7/17 | Packing BVH triangles and strands\n",
            "Fra:24 Mem:1114.82M (Peak 1182.69M) | Time:00:04.02 | Mem:807.39M, Peak:807.39M | Scene, ViewLayer | Updating Geometry BVH Circle.002 7/17 | Packing BVH nodes\n",
            "Fra:24 Mem:1114.58M (Peak 1182.69M) | Time:00:04.02 | Mem:807.39M, Peak:807.39M | Scene, ViewLayer | Updating Geometry BVH Sphere 8/17 | Building BVH\n",
            "Fra:24 Mem:1114.59M (Peak 1182.69M) | Time:00:04.02 | Mem:807.39M, Peak:807.39M | Scene, ViewLayer | Updating Geometry BVH Sphere 8/17 | Packing BVH triangles and strands\n",
            "Fra:24 Mem:1115.28M (Peak 1182.69M) | Time:00:04.02 | Mem:807.39M, Peak:807.39M | Scene, ViewLayer | Updating Geometry BVH Sphere 8/17 | Packing BVH nodes\n",
            "Fra:24 Mem:1115.27M (Peak 1182.69M) | Time:00:04.02 | Mem:807.39M, Peak:807.39M | Scene, ViewLayer | Updating Geometry BVH Torus.001 9/17 | Building BVH\n",
            "Fra:24 Mem:1115.44M (Peak 1182.69M) | Time:00:04.03 | Mem:807.39M, Peak:807.39M | Scene, ViewLayer | Updating Geometry BVH Torus.003 11/17 | Building BVH\n",
            "Fra:24 Mem:1119.27M (Peak 1182.69M) | Time:00:04.09 | Mem:807.39M, Peak:807.39M | Scene, ViewLayer | Updating Geometry BVH Torus.003 11/17 | Packing BVH triangles and strands\n",
            "Fra:24 Mem:1119.48M (Peak 1182.69M) | Time:00:04.09 | Mem:807.39M, Peak:807.39M | Scene, ViewLayer | Updating Geometry BVH Torus.003 11/17 | Packing BVH nodes\n",
            "Fra:24 Mem:1120.35M (Peak 1182.69M) | Time:00:04.09 | Mem:807.39M, Peak:807.39M | Scene, ViewLayer | Updating Geometry BVH Torus.003 11/17 | Packing BVH triangles and strands\n",
            "Fra:24 Mem:1120.56M (Peak 1182.69M) | Time:00:04.09 | Mem:807.39M, Peak:807.39M | Scene, ViewLayer | Updating Geometry BVH Torus.003 11/17 | Packing BVH nodes\n",
            "Fra:24 Mem:1118.87M (Peak 1182.69M) | Time:00:04.09 | Mem:807.39M, Peak:807.39M | Scene, ViewLayer | Updating Geometry BVH Torus.005 10/17 | Building BVH\n",
            "Fra:24 Mem:1119.51M (Peak 1182.69M) | Time:00:04.13 | Mem:807.39M, Peak:807.39M | Scene, ViewLayer | Updating Geometry BVH Torus.005 10/17 | Packing BVH triangles and strands\n",
            "Fra:24 Mem:1119.72M (Peak 1182.69M) | Time:00:04.13 | Mem:807.39M, Peak:807.39M | Scene, ViewLayer | Updating Geometry BVH Torus.005 10/17 | Packing BVH nodes\n",
            "Fra:24 Mem:1118.03M (Peak 1182.69M) | Time:00:04.13 | Mem:807.39M, Peak:807.39M | Scene, ViewLayer | Updating Scene BVH | Building\n",
            "Fra:24 Mem:1118.06M (Peak 1182.69M) | Time:00:04.13 | Mem:807.39M, Peak:807.39M | Scene, ViewLayer | Updating Scene BVH | Building BVH\n",
            "Fra:24 Mem:1136.06M (Peak 1182.69M) | Time:00:04.37 | Mem:807.39M, Peak:807.39M | Scene, ViewLayer | Updating Scene BVH | Packing BVH triangles and strands\n",
            "Fra:24 Mem:1137.26M (Peak 1182.69M) | Time:00:04.37 | Mem:807.39M, Peak:807.39M | Scene, ViewLayer | Updating Scene BVH | Packing BVH nodes\n",
            "Fra:24 Mem:1172.82M (Peak 1182.69M) | Time:00:04.46 | Mem:807.39M, Peak:807.39M | Scene, ViewLayer | Updating Scene BVH | Copying BVH to device\n",
            "Fra:24 Mem:1172.82M (Peak 1182.69M) | Time:00:04.47 | Mem:834.77M, Peak:834.77M | Scene, ViewLayer | Updating Mesh | Computing normals\n",
            "Fra:24 Mem:1203.84M (Peak 1203.84M) | Time:00:04.50 | Mem:834.77M, Peak:834.77M | Scene, ViewLayer | Updating Mesh | Copying Mesh to device\n",
            "Fra:24 Mem:1203.84M (Peak 1203.84M) | Time:00:04.51 | Mem:865.79M, Peak:865.79M | Scene, ViewLayer | Updating Objects Flags\n",
            "Fra:24 Mem:1203.84M (Peak 1203.84M) | Time:00:04.51 | Mem:865.82M, Peak:865.82M | Scene, ViewLayer | Updating Primitive Offsets\n",
            "Fra:24 Mem:1203.85M (Peak 1203.85M) | Time:00:04.51 | Mem:865.83M, Peak:865.83M | Scene, ViewLayer | Updating Images\n",
            "Fra:24 Mem:1203.85M (Peak 1203.85M) | Time:00:04.51 | Mem:865.83M, Peak:865.83M | Scene, ViewLayer | Updating Images | Loading sky_nishita\n",
            "Fra:24 Mem:1204.85M (Peak 1204.85M) | Time:00:04.86 | Mem:866.83M, Peak:866.83M | Scene, ViewLayer | Updating Camera Volume\n",
            "Fra:24 Mem:1204.85M (Peak 1204.85M) | Time:00:04.86 | Mem:866.83M, Peak:866.83M | Scene, ViewLayer | Updating Lookup Tables\n",
            "Fra:24 Mem:1204.85M (Peak 1204.85M) | Time:00:04.86 | Mem:866.91M, Peak:866.91M | Scene, ViewLayer | Updating Lights\n",
            "Fra:24 Mem:1204.85M (Peak 1204.85M) | Time:00:04.86 | Mem:866.91M, Peak:866.91M | Scene, ViewLayer | Updating Lights | Importance map\n",
            "Fra:24 Mem:1205.86M (Peak 1210.35M) | Time:00:04.87 | Mem:867.92M, Peak:870.41M | Scene, ViewLayer | Updating Lights | Computing tree\n",
            "Fra:24 Mem:1205.89M (Peak 1210.35M) | Time:00:04.88 | Mem:867.95M, Peak:870.41M | Scene, ViewLayer | Updating Integrator\n",
            "Fra:24 Mem:1205.89M (Peak 1210.35M) | Time:00:04.88 | Mem:867.95M, Peak:870.41M | Scene, ViewLayer | Updating Film\n",
            "Fra:24 Mem:1205.89M (Peak 1210.35M) | Time:00:04.88 | Mem:867.86M, Peak:870.41M | Scene, ViewLayer | Updating Lookup Tables\n",
            "Fra:24 Mem:1205.89M (Peak 1210.35M) | Time:00:04.88 | Mem:867.95M, Peak:870.41M | Scene, ViewLayer | Updating Baking\n",
            "Fra:24 Mem:1205.89M (Peak 1210.35M) | Time:00:04.88 | Mem:867.95M, Peak:870.41M | Scene, ViewLayer | Updating Device | Writing constant memory\n",
            "Fra:24 Mem:1205.95M (Peak 1210.35M) | Time:00:04.88 | Mem:867.95M, Peak:870.41M | Scene, ViewLayer | Loading denoising kernels (may take a few minutes the first time)\n",
            "Fra:24 Mem:1209.95M (Peak 1210.35M) | Time:00:04.88 | Mem:1251.95M, Peak:1251.95M | Scene, ViewLayer | Sample 0/500\n",
            "Fra:24 Mem:1320.70M (Peak 1320.70M) | Time:00:05.67 | Remaining:06:35.03 | Mem:1362.70M, Peak:1362.70M | Scene, ViewLayer | Sample 1/500\n",
            "Fra:24 Mem:1320.70M (Peak 1320.70M) | Time:00:24.67 | Remaining:04:40.00 | Mem:1362.70M, Peak:1362.70M | Scene, ViewLayer | Sample 33/500\n",
            "\n",
            "Sent an internal break event. Press ^C again to kill Blender\n",
            "\n",
            "Blender killed\n",
            "Driver deinitialized in cuCtxPopCurrent(NULL) (intern/cycles/device/cuda/util.cpp:19)\n",
            "\n",
            "Refer to the Cycles GPU rendering documentation for possible solutions:\n",
            "https://docs.blender.org/manual/en/latest/render/cycles/gpu_rendering.html\n",
            "\n",
            "Driver deinitialized in cuCtxPushCurrent(device->cuContext) (intern/cycles/device/cuda/util.cpp:14)\n",
            "Driver deinitialized in CUDA queue copy_from_device (integrator_init_from_bake integrator_shade_surface integrator_sorted_paths_array)\n",
            "Driver deinitialized in cuCtxPopCurrent(NULL) (intern/cycles/device/cuda/util.cpp:19)\n",
            "Fra:24 Mem:1317.14M (Peak 1320.70M) | Time:00:45.79 | Remaining:02:49.96 | Mem:1362.70M, Peak:1362.70M | Scene, ViewLayer | Sample 97/500\n",
            "Fra:24 Mem:1317.14M (Peak 1320.70M) | Time:00:45.79 | Remaining:02:49.96 | Mem:1362.70M, Peak:1362.70M | Scene, ViewLayer | Driver deinitialized in cuCtxPopCurrent(NULL) (intern/cycles/device/cuda/util.cpp:19)\n",
            "Error: Driver deinitialized in cuCtxPopCurrent(NULL) (intern/cycles/device/cuda/util.cpp:19)\n"
          ]
        }
      ],
      "source": [
        "%cd /content\n",
        "\n",
        "!rm -r output\n",
        "!mkdir output\n",
        "\n",
        "if not drive_output_path.endswith('/'):\n",
        "    drive_output_path += '/'\n",
        "\n",
        "if download_type != 'gdrive_direct':\n",
        "    output_path = '/content/output/' + output_name\n",
        "else:\n",
        "    output_path = '/drive/My Drive/' + drive_output_path + output_name\n",
        "\n",
        "%cd /content/$blender_version\n",
        "\n",
        "if animation:\n",
        "    if start_frame == end_frame:\n",
        "        !./$blender_version/blender -b '/content/render/{blend_file_path}' -P setgpu.py -E CYCLES -o '{output_path}' -noaudio -a -- --cycles-device \"{renderer}\"\n",
        "    else:\n",
        "        !./$blender_version/blender -b '/content/render/{blend_file_path}' -P setgpu.py -E CYCLES -o '{output_path}' -noaudio -s $start_frame -e $end_frame -a -- --cycles-device \"{renderer}\"\n",
        "else:\n",
        "    !./$blender_version/blender -b '/content/render/{blend_file_path}' -P setgpu.py -E CYCLES -o '{output_path}' -noaudio -f $start_frame -- --cycles-device \"{renderer}\""
      ]
    },
    {
      "cell_type": "code",
      "execution_count": 9,
      "metadata": {
        "id": "IjN_CFwEIB6f",
        "colab": {
          "base_uri": "https://localhost:8080/",
          "height": 141
        },
        "outputId": "f85da844-9c6c-4170-8e31-20e726a21f6b"
      },
      "outputs": [
        {
          "output_type": "stream",
          "name": "stdout",
          "text": [
            "/content\n"
          ]
        },
        {
          "output_type": "error",
          "ename": "SystemExit",
          "evalue": "No frames are rendered.",
          "traceback": [
            "An exception has occurred, use %tb to see the full traceback.\n",
            "\u001b[0;31mSystemExit\u001b[0m\u001b[0;31m:\u001b[0m No frames are rendered.\n"
          ]
        },
        {
          "output_type": "stream",
          "name": "stderr",
          "text": [
            "/usr/local/lib/python3.11/dist-packages/IPython/core/interactiveshell.py:3561: UserWarning: To exit: use 'exit', 'quit', or Ctrl-D.\n",
            "  warn(\"To exit: use 'exit', 'quit', or Ctrl-D.\", stacklevel=1)\n"
          ]
        }
      ],
      "source": [
        "%cd /content\n",
        "\n",
        "path, dirs, files_folder = next(os.walk(\"output\"))\n",
        "output_folder_name = output_name.replace('#', '') + 'render'\n",
        "\n",
        "if download_type == 'gdrive_direct':\n",
        "    pass\n",
        "elif len(files_folder) == 1:\n",
        "    render_img = 'output/' + files_folder[0]\n",
        "    if download_type == 'direct':\n",
        "        files.download('output/' + files_folder[0])\n",
        "    else:\n",
        "        shutil.copy('/content/' + render_img, '/drive/My Drive/' + drive_output_path)\n",
        "elif len(files_folder) > 1:\n",
        "    if zip_files:\n",
        "        shutil.make_archive(output_folder_name, 'zip', 'output')\n",
        "    if download_type == 'direct':\n",
        "        files.download(output_folder_name + '.zip')\n",
        "    else:\n",
        "        shutil.copy('/content/' + output_folder_name + \".zip\", '/drive/My Drive/' + drive_output_path)\n",
        "elif download_type == 'direct':\n",
        "    for f in files_folder:\n",
        "        files.download('output/{}'.format(f))\n",
        "    # Drive, no zip\n",
        "    else:\n",
        "        for f in files_folder:\n",
        "          shutil.copy(\"/content/output/\" + f, '/drive/My Drive/' + drive_output_path + f)\n",
        "else:\n",
        "    raise SystemExit(\"No frames are rendered.\")"
      ]
    },
    {
      "cell_type": "markdown",
      "metadata": {
        "id": "IeNhVz4Uds_7"
      },
      "source": [
        "## Disclaimer\n",
        "Google Colab is targeted to researchers and students to run AI/ML tasks, data analysis and education, not rendering 3D scenes. Because the computing power provided are free, the usage limits, idle timeouts and speed of the rendering may varies time by time. [Colab Pro and Colab Pro+](https://colab.research.google.com/signup) are available for those who wanted to have more powerful GPU and longer runtimes for rendering. See the [FAQ](https://research.google.com/colaboratory/faq.html) for more info. In some cases, it might be faster to use an online Blender renderfarm.\n",
        "\n",
        "## License\n",
        "```\n",
        "MIT License\n",
        "\n",
        "Copyright (c) 2020-2022 ynshung\n",
        "\n",
        "Permission is hereby granted, free of charge, to any person obtaining a copy\n",
        "of this software and associated documentation files (the \"Software\"), to deal\n",
        "in the Software without restriction, including without limitation the rights\n",
        "to use, copy, modify, merge, publish, distribute, sublicense, and/or sell\n",
        "copies of the Software, and to permit persons to whom the Software is\n",
        "furnished to do so, subject to the following conditions:\n",
        "\n",
        "The above copyright notice and this permission notice shall be included in all\n",
        "copies or substantial portions of the Software.\n",
        "\n",
        "THE SOFTWARE IS PROVIDED \"AS IS\", WITHOUT WARRANTY OF ANY KIND, EXPRESS OR\n",
        "IMPLIED, INCLUDING BUT NOT LIMITED TO THE WARRANTIES OF MERCHANTABILITY,\n",
        "FITNESS FOR A PARTICULAR PURPOSE AND NONINFRINGEMENT. IN NO EVENT SHALL THE\n",
        "AUTHORS OR COPYRIGHT HOLDERS BE LIABLE FOR ANY CLAIM, DAMAGES OR OTHER\n",
        "LIABILITY, WHETHER IN AN ACTION OF CONTRACT, TORT OR OTHERWISE, ARISING FROM,\n",
        "OUT OF OR IN CONNECTION WITH THE SOFTWARE OR THE USE OR OTHER DEALINGS IN THE\n",
        "SOFTWARE.\n",
        "```"
      ]
    }
  ],
  "metadata": {
    "accelerator": "GPU",
    "colab": {
      "name": "blender-render.ipynb",
      "provenance": [],
      "include_colab_link": true
    },
    "kernelspec": {
      "display_name": "Python 3",
      "language": "python",
      "name": "python3"
    },
    "language_info": {
      "codemirror_mode": {
        "name": "ipython",
        "version": 3
      },
      "file_extension": ".py",
      "mimetype": "text/x-python",
      "name": "python",
      "nbconvert_exporter": "python",
      "pygments_lexer": "ipython3",
      "version": "3.7.4"
    }
  },
  "nbformat": 4,
  "nbformat_minor": 0
}